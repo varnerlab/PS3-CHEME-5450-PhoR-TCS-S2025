{
 "cells": [
  {
   "cell_type": "markdown",
   "id": "6503be98",
   "metadata": {},
   "source": [
    "# Problem Set 3 (PS3): PhoR/PhoB Two-Component System\n",
    "The PhoR/PhoB two-component system is a well-studied example of a TCS that regulates bacteria's response to phosphate limitation. PhoR is the sensor kinase that detects low phosphate levels, while PhoB is the response regulator that activates phosphate acquisition and metabolism genes. \n",
    "\n",
    "[PhoR/PhoB Cartoon, Figure 7.5 reproduced from the textbook, \"Molecular Biology of the Cell\" by Alberts et al. 6th Edition](https://github.com/varnerlab/CHEME-5450-Lectures-Spring-2025/blob/main/lectures/week-8/L8b/figs/figure%207-05.jpg).\n",
    "\n",
    "Review of the PhoR/PhoB TCS in _Escherichia coli_:\n",
    "* [Gardner SG, McCleary WR. Control of the phoBR Regulon in Escherichia coli. EcoSal Plus. 2019 Sep;8(2):10.1128/ecosalplus.ESP-0006-2019. doi: 10.1128/ecosalplus.ESP-0006-2019. PMID: 31520469; PMCID: PMC11573284.](https://pubmed.ncbi.nlm.nih.gov/31520469/)\n",
    "\n",
    "In this problem set, let's build a simplified model of PhoR/PhoB mediated transcription of PhoA, a downtream target of the activated (phosphorylated) PhoB transcription factor. "
   ]
  },
  {
   "cell_type": "markdown",
   "id": "5e590c56",
   "metadata": {},
   "source": [
    "## Setup, Data, and Prerequisites\n",
    "We set up the computational environment by including the `Include.jl` file, loading any needed resources, such as sample datasets, and setting up any required constants. \n",
    "* The `Include.jl` file also loads external packages, various functions that we will use in the exercise, and custom types to model the components of our problem. It checks for a `Manifest.toml` file; if it finds one, packages are loaded. Other packages are downloaded and then loaded."
   ]
  },
  {
   "cell_type": "code",
   "execution_count": 1,
   "id": "fd6f0c1e",
   "metadata": {},
   "outputs": [],
   "source": [
    "include(\"Include.jl\");"
   ]
  },
  {
   "cell_type": "markdown",
   "id": "5d195b5a",
   "metadata": {},
   "source": [
    "### Constants\n",
    "See the description beside the constant for a description of what it is, permissible values, etc."
   ]
  },
  {
   "cell_type": "code",
   "execution_count": null,
   "id": "cdf12d8f",
   "metadata": {},
   "outputs": [],
   "source": [
    "doubling_time  = 20.0*(1/60); # doubling time of E. coli in hr\n",
    "μ = log(2)/doubling_time; # maximum specific growth rate of E. coli in batch culture on LB media (units: 1/hr)\n",
    "R = 8.314; # universal gas constant (units: J/(mol*K))\n",
    "T = 37 + 273.15; # temperature (units: K);\n",
    "β = 1/(R*T); # inverse temperature (units: 1/(J*mol)) - thermodynamic beta in units of 1/(J*mol)\n",
    "parameters = generate_parameter_dictionary(joinpath(_PATH_TO_DATA, \"Parameters.json\")); # load the biophysical parameters"
   ]
  },
  {
   "cell_type": "code",
   "execution_count": 3,
   "id": "3ab7cdbd",
   "metadata": {},
   "outputs": [
    {
     "data": {
      "text/plain": [
       "2.079441541679836"
      ]
     },
     "metadata": {},
     "output_type": "display_data"
    }
   ],
   "source": [
    "μ"
   ]
  },
  {
   "cell_type": "markdown",
   "id": "5cfef144",
   "metadata": {},
   "source": [
    "### Build the problem object \n",
    "To store all the problem data, we created [the `MyPrimalFluxBalanceAnalysisCalculationModel` type](src/Types.jl). Let's build one of these objects for our problem and store it in the `model::MyPrimalFluxBalanceAnalysisCalculationModel` variable. We also return the `rd::Dict{String, String}` dictionary, which maps the reaction name field (key) to the reaction string (value).\n",
    "* __Builder (or factory) pattern__: For all custom types that we make, we'll use something like [the builder software pattern](https://en.wikipedia.org/wiki/Builder_pattern) to construct and initialize these objects. The calling syntax will be the same for all types: [a `build(...)` method](src/Factory.jl) will take the kind of thing we want to build in the first argument, and the data needed to make that type as [a `NamedTuple` instance](https://docs.julialang.org/en/v1/base/base/#Core.NamedTuple) in the second argument.\n",
    "* __What's the story with the `let` block__? A [let block](https://docs.julialang.org/en/v1/manual/variables-and-scoping/#Let-Blocks) creates a new hard scope and new variable bindings each time they run. Thus, they act like a private scratch space, where data comes in (is captured by the block), but only what we want to be exposed comes out. "
   ]
  },
  {
   "cell_type": "code",
   "execution_count": 4,
   "id": "8ba9bca3",
   "metadata": {},
   "outputs": [],
   "source": [
    "model, rd, reactionnamesmap = let\n",
    "\n",
    "    # first, load the reaction file - and process it\n",
    "    listofreactions = read_reaction_file(joinpath(_PATH_TO_DATA, \"PS3-PHOB-CHEME-5450-S2025.net\")); # load the reactions from the VFF reaction file\n",
    "    S, species, reactions, rd = build_stoichiometric_matrix(listofreactions); # Builds the stochiometric matrix, species list, and the reactions list\n",
    "    boundsarray = build_default_bounds_array(listofreactions); # Builds a default bounds model using the flat file flags\n",
    "\n",
    "    # build the FBA model -\n",
    "    model = build(MyPrimalFluxBalanceAnalysisCalculationModel, (\n",
    "        S = S, # stoichiometric matrix\n",
    "        fluxbounds = boundsarray, # these are the *default* bounds; we'll need to update with new info if we have it\n",
    "        species = species, # list of species. The rows of S are in this order\n",
    "        reactions = reactions, # list of reactions. The cols of S are in this order\n",
    "        objective = length(reactions) |> R -> zeros(R), # this is empty, we'll need to set this\n",
    "    ));\n",
    "\n",
    "    # build a reaction names = reaction index map\n",
    "    reactionnamesmap = Dict{String,Int64}()\n",
    "    for i ∈ eachindex(reactions)\n",
    "        reactionnamesmap[reactions[i]] = i;\n",
    "    end\n",
    "\n",
    "    # return -\n",
    "    model, rd, reactionnamesmap\n",
    "end;"
   ]
  },
  {
   "cell_type": "markdown",
   "id": "e443d809",
   "metadata": {},
   "source": [
    "`Unhide` the code block below to see how we build a table of the reactions in the model [using the `pretty_tables(...)` method exported from the `PrettyTables.jl` package](https://github.com/ronisbr/PrettyTables.jl)."
   ]
  },
  {
   "cell_type": "code",
   "execution_count": 5,
   "id": "9ec7b527",
   "metadata": {
    "jupyter": {
     "source_hidden": true
    }
   },
   "outputs": [
    {
     "name": "stdout",
     "output_type": "stream",
     "text": [
      "============================ ===========================================================\n",
      " \u001b[1m name                      \u001b[0m \u001b[1m string                                                   \u001b[0m\n",
      " \u001b[90m String                    \u001b[0m \u001b[90m String                                                   \u001b[0m\n",
      "============================ ===========================================================\n",
      "  PhoR_SYNTHESIS              [] = PhoR\n",
      "  PhoR_MEMBRANE               PhoR = PhoR_MEMBRANE\n",
      "  PhoR_DEGRADATION            PhoR = []\n",
      "  PhoR_MEMBRANE_DEGRADATION   PhoR_MEMBRANE = []\n",
      "  PhoB_SYNTHESIS              [] = PhoB\n",
      "  PhoB_DEGRADATION            PhoB = []\n",
      "  RIBOSOME_ASSEMBLY           [] = RIBOSOME\n",
      "  RIBOSOME_FORCE_RECYCLE      RIBOSOME_USED = []\n",
      "  RNAP_ASSEMBLY               [] = RNAP\n",
      "  RNAP_FORCE_RECYCLE          RNAP_USED = []\n",
      "  ATP_SYNTHESIS               [] = ATP\n",
      "  ADP_SYNTHESIS               [] = ADP\n",
      "  BIND_PhoR_ATP               PhoR_MEMBRANE+ATP = PhoR_MEMBRANE_ATP\n",
      "  ACTIVATE_PhoB_TRANSFER      PhoR_MEMBRANE_ATP_PhoB = PhoR_MEMBRANE+ADP+P_PhoB\n",
      "  ACTIVATE_PhoB_BIND          PhoR_MEMBRANE_ATP+PhoB = PhoR_MEMBRANE_ATP_PhoB\n",
      "  ACTIVATE_PhoB_TRANSFER      PhoR_MEMBRANE_ATP_PhoB = PhoR_MEMBRANE+ADP+P_PhoB\n",
      "  BIND_PhoB_PPASE             P_PhoB+ADP = PhoB+PhoB_PPASE+ATP\n",
      "  PHOA_BACKGROUND_RNAP        G_PHOA+RNAP = G_PHOA_RNAP\n",
      "  PHOA_START                  G_PHOA_RNAP = G_PHOA+RNAP_USED+mRNA_PHOA\n",
      "  PHOA_TF                     G_PHOA+P_PhoB = G_PHOA_P_PhoB\n",
      "  PHOA_TF_RNAP                G_PHOA_P_PhoB+RNAP = G_PHOA_P_PhoB_RNAP\n",
      "  PHOA_TF_START               G_PHOA_P_PhoB_RNAP = G_PHOA+P_PhoB+RNAP_USED+mRNA_PHOA\n",
      "  mRNA_DEGRADE_PHOA           mRNA_PHOA = []\n",
      "  PHOA_TRANSLATION_BIND       mRNA_PHOA+RIBOSOME = mRNA_PHOA_RIBOSOME\n",
      "  PHOA_TRANSLATION_SCAN       mRNA_PHOA_RIBOSOME = mRNA_PHOA_RIBOSOME_ACTIVE\n",
      "  PHOA_TRANSLATION            mRNA_PHOA_RIBOSOME_ACTIVE = mRNA_PHOA+RIBOSOME_USED+PhoA\n",
      "  PHOA_DEGRADATION            PhoA = []\n",
      "============================ ===========================================================\n"
     ]
    }
   ],
   "source": [
    "let\n",
    "    df = DataFrame()\n",
    "    reactions = model.reactions;\n",
    "\n",
    "    for i ∈ eachindex(reactions)\n",
    "        reactionstring = reactions[i] |> key -> rd[key];\n",
    "        row_df = (\n",
    "            name = reactions[i],\n",
    "            string = reactionstring,\n",
    "        );\n",
    "        push!(df, row_df);\n",
    "    end\n",
    "\n",
    "    pretty_table(df, tf = tf_simple, alignment = :l)\n",
    "end"
   ]
  },
  {
   "cell_type": "markdown",
   "id": "57c11b11",
   "metadata": {},
   "source": [
    "Update the objective function. Select a process to maximize. Let's maximize the translation of the PhoA protein."
   ]
  },
  {
   "cell_type": "code",
   "execution_count": 6,
   "id": "54efb719",
   "metadata": {},
   "outputs": [],
   "source": [
    "i = findfirst(x-> x==\"PHOA_TRANSLATION\", model.reactions);\n",
    "objective = model.objective;\n",
    "objective[i] = 1;"
   ]
  },
  {
   "cell_type": "markdown",
   "id": "02409b86",
   "metadata": {},
   "source": [
    "## The bounds trick for signaling\n",
    "The signaling events in the PhoR/PhoB TCS are modeled in our network, but we need to add some logic to the bounds to make the model work correcrly. The initiation event for the activation of PhoB is the (auto) phosphorylation of the PhoR sensor kinase, which occurs when the sensor kinase does _not_ have a bound perplasmic phosphate. Let's model this use boolean rules.\n",
    "\n",
    "### The `PhoR` sensor kinase\n",
    "The `PhoR` sensor kinase is phosphorylated (activated) when the concentration of periplasmic phosphate is below a threshold. Let this condition by modeled by the binary variable $\\texttt{HIGHPHOSPHATE}$. \n",
    "* If $\\texttt{HIGHPHOSPHATE} = 1$: the sensor kinase will _not_ auto-phosphorylate. The periplasmic phosphate abundance is high, so the sensor kinase is _not_ activated.\n",
    "* If $\\texttt{HIGHPHOSPHATE} = 0$: the sensor kinase _will_ auto-phosphorylate, so the sensor kinase is _activated_ in low phosphate conditions.\n",
    "\n",
    "### The `PhoB` response regulator\n",
    "The `PhoB` response regulator is phosphorylated (activated) when PhoR is phosphorylated. Let this condition be modeled by the fuzzy variable $\\texttt{PHOSPHORYLATED\\_PHOB}$. We expect that PhoB will be phosphorylated in low phosphate conditions.\n",
    "* Let $\\texttt{PHOSPHORYLATED\\_PHOB} = 1 - \\texttt{HIGHPHOSPHATE}$. In high phosphate conditions, the response regulator is _not_ phosphorylated, and the `BIND_PhoB_PhoR` reaction is _inactive_, thus, $\\texttt{PHOSPHORYLATED\\_PHOB} = 0$. Otherwise, $\\texttt{PHOSPHORYLATED\\_PHOB} = 1$.\n",
    "\n",
    "Let's implement this logic, and we'll update the bounds below."
   ]
  },
  {
   "cell_type": "code",
   "execution_count": 14,
   "id": "06c5dbd1",
   "metadata": {},
   "outputs": [],
   "source": [
    "HIGHPHOSPHATE = 1; # we are in a high phoshate environment\n",
    "PHOSPHORYLATED_PHOB = 1 - HIGHPHOSPHATE; # we are in a low phosphate environment "
   ]
  },
  {
   "cell_type": "markdown",
   "id": "65234497",
   "metadata": {},
   "source": [
    "## The bounds trick for gene expression in FBA\n",
    "\n",
    "In general, when using flux balance analysis to model gene expression there can be some pathologies. For example, translation occurs without transcription. Alternatively, transcription occurs without PhoB activation. How are we going to fix this? Answer: there is a trick with the bounds (that incorporates many things we have been exploring) that we can use to fix this problem:\n",
    "* [Vilkhovoy M, Horvath N, Shih CH, Wayman JA, Calhoun K, Swartz J, Varner JD. Sequence-Specific Modeling of E. coli Cell-Free Protein Synthesis. ACS Synth Biol. 2018 Aug 17;7(8):1844-1857. doi: 10.1021/acssynbio.7b00465. Epub 2018 Jul 16. PMID: 29944340.](https://www.biorxiv.org/content/10.1101/139774v2)\n",
    "\n",
    "__Fix__: We (equality) bound a transcription rate $\\hat{v}_{i}$ as $\\hat{r}_{X, i}u_{i} = \\hat{v}_{i} = \\hat{r}_{X, i}u_{i}$, while a translation rate is bounded from above by the modified kinetic limit as: $0\\leq\\hat{v}_{j}\\leq\\hat{r}_{L,j}w_{j}$. This is interesting because the kinetic limits are (semi)mechanistic descriptions of the transcription and translation rate. At the same time, the control variables contain continuous Boltzmann-type descriptions of the logical controlling these processes.\n",
    "\n",
    "First, let's compute the kinetic limit of transcription for PhoA:"
   ]
  },
  {
   "cell_type": "code",
   "execution_count": 7,
   "id": "a2cb51a8",
   "metadata": {},
   "outputs": [],
   "source": [
    "rX = compute_transcription_rate(parameters); # transcription kinetic limit, no u"
   ]
  },
  {
   "cell_type": "markdown",
   "id": "688a3456",
   "metadata": {},
   "source": [
    "Next, we'll compute the transcriptional and translational control terms that govern PhoA expression. For simplicity, let's assume the translation control term is unity $w = 1$, and focus on a Boltzmann-type description of the transcriptional control term $u$. \n",
    "\n",
    "Let's assume three states:\n",
    "* __State 0: Bare gene__: This state is just the gene without anything bound to it. This state will __not__ lead to transcription. This will be our ground state. The pseduo energy for this state $\\epsilon_{0} \\equiv 0$.\n",
    "* __State 1: RNAP only__: In this state only RNAP is bound to the promoter, but without phosphorylated PhoB (P_PhoB) bound. This state __will__ lead to transcription at a low level. The pseduo energy for this state $\\epsilon_{1} \\equiv x$.\n",
    "* __State 2: RNAP + P_PhoB__: In this state both RNAP and P_PhoB are bound to the promoter. This state __will__ lead to transcrption that will be sensitive to the abundance of P_PhoB. The pseduo energy for this state $\\epsilon_{2} \\equiv y$."
   ]
  },
  {
   "cell_type": "code",
   "execution_count": null,
   "id": "110f22af",
   "metadata": {},
   "outputs": [
    {
     "data": {
      "text/plain": [
       "(1, 1, 1)"
      ]
     },
     "metadata": {},
     "output_type": "display_data"
    }
   ],
   "source": [
    "u₁, u₂, w = let \n",
    "    \n",
    "    # initialize -\n",
    "    w = 1.0;\n",
    "    u₁ = 0.0; # this is udagger (background)\n",
    "    u₂ = 0.0; # this is u (induced)\n",
    "\n",
    "    # Boltzmann promoter logic here -\n",
    "    # ...\n",
    "\n",
    "    # return -\n",
    "    u₁,u₂,w\n",
    "end"
   ]
  },
  {
   "cell_type": "markdown",
   "id": "801bf44e",
   "metadata": {},
   "source": [
    "Finally, let's compute the kinetic limit of translation. This one is tricky because it requires an estimate of the mRNA for PhoA.\n",
    "See lecture `L5b` for a description of the kinetic limit of translation expression (or the reference we gave above). Let's approximate the PhoA mRNA level by the steady-state level (written for transcript $j$):\n",
    "$$\n",
    "\\begin{align*}\n",
    " m^{\\star}_{j} & = \\frac{r_{X,j}u_{j}\\left(\\dots\\right) + \\lambda_{j}}{\\theta_{m,j}+\\mu}\\quad\\text{for }j=1,2,\\dots,N\n",
    "\\end{align*}\n",
    "$$"
   ]
  },
  {
   "cell_type": "code",
   "execution_count": 9,
   "id": "1ce3ce92",
   "metadata": {},
   "outputs": [
    {
     "data": {
      "text/plain": [
       "0.2649521199960554"
      ]
     },
     "metadata": {},
     "output_type": "display_data"
    }
   ],
   "source": [
    "rL = let\n",
    "\n",
    "    # get constants from parameters -\n",
    "    θ = parameters[:kdL];\n",
    "    KL = parameters[:KL];\n",
    "    VMAXL = parameters[:VL];\n",
    "    τ = parameters[:L_tau_factor]; \n",
    "\n",
    "    # first compute the mRNA concentration -\n",
    "    m = (rX*u₁ + rX*u₂)/(θ + μ); # approx mRNA level -\n",
    "\n",
    "    # compute the kinetic limit -\n",
    "    rL = VMAXL*(m/(τ*KL+(1+τ)*m));\n",
    "end"
   ]
  },
  {
   "cell_type": "markdown",
   "id": "871f5147-80f7-4f79-8ed4-aadeadbac795",
   "metadata": {},
   "source": [
    "### Update the bounds\n",
    "Now that we have an estimate of the transcription $\\hat{r}_{X}u$ and the translation $\\hat{r}_{L}w$ rates, we can update the flux balance analysis problem bounds. Let's play around with these bounds to see what happens."
   ]
  },
  {
   "cell_type": "code",
   "execution_count": 10,
   "id": "921700c3-83d6-4026-859b-9068410c06b3",
   "metadata": {},
   "outputs": [],
   "source": [
    "fluxbounds = let\n",
    "\n",
    "    # make a copy of the default flux bounds -\n",
    "    flux_bounds = copy(model.fluxbounds);\n",
    "\n",
    "    # update the bounds -\n",
    "    flux_bounds[reactionnamesmap[\"PHOA_START\"],1] = rX*u₁; # transcrption lower bound state 1\n",
    "    flux_bounds[reactionnamesmap[\"PHOA_START\"],2] = rX*u₁; # transcrption upper bound state 1\n",
    "    flux_bounds[reactionnamesmap[\"PHOA_TF_START\"],1] = rX*u₂; # transcrption lower bound state 2\n",
    "    flux_bounds[reactionnamesmap[\"PHOA_TF_START\"],2] = rX*u₂; # transcrption upper bound state 2\n",
    "    flux_bounds[reactionnamesmap[\"PHOA_TRANSLATION\"],1] = 0.0; # translation lower bound\n",
    "    flux_bounds[reactionnamesmap[\"PHOA_TRANSLATION\"],2] = rL*w; # translation upper bound\n",
    "\n",
    "    # return new bounds\n",
    "    flux_bounds;\n",
    "end;"
   ]
  },
  {
   "cell_type": "code",
   "execution_count": 11,
   "id": "98d86d88-000b-464e-9a65-1faf27d58f98",
   "metadata": {},
   "outputs": [],
   "source": [
    "model.fluxbounds = fluxbounds;"
   ]
  },
  {
   "cell_type": "markdown",
   "id": "d919ce20",
   "metadata": {},
   "source": [
    "### Compute the optimal flux distribution \n",
    "\n",
    "Finally, let's compute the optimal metabolic distribution $\\left\\{\\hat{v}_{i} \\mid i = 1,2,\\dots,\\mathcal{R}\\right\\}$ by solving the [linear programming problem](). We solve the optimization problem by passing the `model::MyPrimalFluxBalanceAnalysisCalculationModel` to [the `solve(...)` method](src/Compute.jl). This method returns a `solution::Dict{String, Any}` dictionary, which holds information about the solution.\n",
    "* __Why the [try-catch environment](https://docs.julialang.org/en/v1/base/base/#try)__? The [solve(...) method](src/Compute.jl) has an [@assert statement](https://docs.julialang.org/en/v1/base/base/#Base.@assert) to check if the calculation has converged. Thus, the solve method can [throw](https://docs.julialang.org/en/v1/base/base/#Core.throw) an [AssertionError](https://docs.julialang.org/en/v1/base/base/#Core.AssertionError) if the optimization problem fails to converge. To gracefully handle this case, we use a [try-catch construct](https://docs.julialang.org/en/v1/base/base/#try). See the [is_solved_and_feasible method from the JuMP package](https://jump.dev/JuMP.jl/stable/api/JuMP/#JuMP.is_solved_and_feasible) for more information."
   ]
  },
  {
   "cell_type": "code",
   "execution_count": 12,
   "id": "e232bdf6",
   "metadata": {},
   "outputs": [],
   "source": [
    "solution = let\n",
    "    \n",
    "    solution = nothing; # initialize nothing for the solution\n",
    "    try\n",
    "        solution = solve(model); # call the solve method with our problem model -\n",
    "    catch error\n",
    "        println(\"error: $(error)\"); # Oooooops! Looks like we have a *major malfunction*, problem didn't solve\n",
    "    end\n",
    "\n",
    "    # return solution\n",
    "    solution\n",
    "end;"
   ]
  },
  {
   "cell_type": "markdown",
   "id": "9423e94e",
   "metadata": {},
   "source": [
    "__Flux table__: Let's use [the `pretty_tables(...)` method exported by the `PrettyTables.jl` package](https://github.com/ronisbr/PrettyTables.jl) to display the estimated optimal metabolic fluxes. `Unhide` the code block below to see how we constructed the flux table."
   ]
  },
  {
   "cell_type": "code",
   "execution_count": 13,
   "id": "cd401f3a",
   "metadata": {
    "jupyter": {
     "source_hidden": true
    }
   },
   "outputs": [
    {
     "name": "stdout",
     "output_type": "stream",
     "text": [
      "============================ =============== =============== =============== ===========================================================\n",
      " \u001b[1m Reaction                  \u001b[0m \u001b[1m v̂ᵢ            \u001b[0m \u001b[1m v̂ᵢ LB         \u001b[0m \u001b[1m v̂ᵢ UB         \u001b[0m \u001b[1m Reaction                                                 \u001b[0m\n",
      " \u001b[90m                           \u001b[0m \u001b[90m mmol/gDW-time \u001b[0m \u001b[90m mmol/gDW-time \u001b[0m \u001b[90m mmol/gDW-time \u001b[0m \u001b[90m N/A                                                      \u001b[0m\n",
      "============================ =============== =============== =============== ===========================================================\n",
      "  PhoR_SYNTHESIS              0.0             0.0             1000.0          [] = PhoR\n",
      "  PhoR_MEMBRANE               0.0             -1000.0         1000.0          PhoR = PhoR_MEMBRANE\n",
      "  PhoR_DEGRADATION            0.0             0.0             1000.0          PhoR = []\n",
      "  PhoR_MEMBRANE_DEGRADATION   0.0             0.0             1000.0          PhoR_MEMBRANE = []\n",
      "  PhoB_SYNTHESIS              0.0             0.0             1000.0          [] = PhoB\n",
      "  PhoB_DEGRADATION            0.0             0.0             1000.0          PhoB = []\n",
      "  RIBOSOME_ASSEMBLY           0.264952        -1000.0         1000.0          [] = RIBOSOME\n",
      "  RIBOSOME_FORCE_RECYCLE      0.264952        0.0             1000.0          RIBOSOME_USED = []\n",
      "  RNAP_ASSEMBLY               0.0865021       -1000.0         1000.0          [] = RNAP\n",
      "  RNAP_FORCE_RECYCLE          0.0865021       0.0             1000.0          RNAP_USED = []\n",
      "  ATP_SYNTHESIS               0.0             -1000.0         1000.0          [] = ATP\n",
      "  ADP_SYNTHESIS               0.0             -1000.0         1000.0          [] = ADP\n",
      "  BIND_PhoR_ATP               0.0             0.0             1000.0          PhoR_MEMBRANE+ATP = PhoR_MEMBRANE_ATP\n",
      "  ACTIVATE_PhoB_TRANSFER      0.0             0.0             1000.0          PhoR_MEMBRANE_ATP_PhoB = PhoR_MEMBRANE+ADP+P_PhoB\n",
      "  ACTIVATE_PhoB_BIND          0.0             -1000.0         1000.0          PhoR_MEMBRANE_ATP+PhoB = PhoR_MEMBRANE_ATP_PhoB\n",
      "  ACTIVATE_PhoB_TRANSFER      0.0             0.0             1000.0          PhoR_MEMBRANE_ATP_PhoB = PhoR_MEMBRANE+ADP+P_PhoB\n",
      "  BIND_PhoB_PPASE             0.0             0.0             1000.0          P_PhoB+ADP = PhoB+PhoB_PPASE+ATP\n",
      "  PHOA_BACKGROUND_RNAP        0.043251        -1000.0         1000.0          G_PHOA+RNAP = G_PHOA_RNAP\n",
      "  PHOA_START                  0.043251        0.043251        0.043251        G_PHOA_RNAP = G_PHOA+RNAP_USED+mRNA_PHOA\n",
      "  PHOA_TF                     0.043251        -1000.0         1000.0          G_PHOA+P_PhoB = G_PHOA_P_PhoB\n",
      "  PHOA_TF_RNAP                0.043251        -1000.0         1000.0          G_PHOA_P_PhoB+RNAP = G_PHOA_P_PhoB_RNAP\n",
      "  PHOA_TF_START               0.043251        0.043251        0.043251        G_PHOA_P_PhoB_RNAP = G_PHOA+P_PhoB+RNAP_USED+mRNA_PHOA\n",
      "  mRNA_DEGRADE_PHOA           0.0865021       0.0             1000.0          mRNA_PHOA = []\n",
      "  PHOA_TRANSLATION_BIND       0.264952        -1000.0         1000.0          mRNA_PHOA+RIBOSOME = mRNA_PHOA_RIBOSOME\n",
      "  PHOA_TRANSLATION_SCAN       0.264952        0.0             1000.0          mRNA_PHOA_RIBOSOME = mRNA_PHOA_RIBOSOME_ACTIVE\n",
      "  PHOA_TRANSLATION            0.264952        0.0             0.264952        mRNA_PHOA_RIBOSOME_ACTIVE = mRNA_PHOA+RIBOSOME_USED+PhoA\n",
      "  PHOA_DEGRADATION            0.264952        0.0             1000.0          PhoA = []\n",
      "============================ =============== =============== =============== ===========================================================\n"
     ]
    }
   ],
   "source": [
    "let\n",
    "\n",
    "    # setup -\n",
    "    S = model.S;\n",
    "    flux_bounds_array = model.fluxbounds;\n",
    "    number_of_reactions = size(S,2); # columns\n",
    "\tflux_table = Array{Any,2}(undef,number_of_reactions,5)\n",
    "    flux = solution[\"argmax\"];\n",
    "    \n",
    "    # populate the state table -\n",
    "\tfor reaction_index = 1:number_of_reactions\n",
    "\t\tflux_table[reaction_index,1] = model.reactions[reaction_index]\n",
    "\t\tflux_table[reaction_index,2] = flux[reaction_index]\n",
    "\t\tflux_table[reaction_index,3] = flux_bounds_array[reaction_index,1]\n",
    "\t\tflux_table[reaction_index,4] = flux_bounds_array[reaction_index,2]\n",
    "        flux_table[reaction_index,5] = model.reactions[reaction_index] |> key-> rd[key]\n",
    "\tend\n",
    "\n",
    "    # header row -\n",
    "\tflux_table_header_row = ([\"Reaction\",\"v̂ᵢ\", \"v̂ᵢ LB\", \"v̂ᵢ UB\", \"Reaction\"],[\"\",\"mmol/gDW-time\", \"mmol/gDW-time\", \"mmol/gDW-time\", \"N/A\"]);\n",
    "\t\t\n",
    "\t# write the table -\n",
    "\tpretty_table(flux_table; header=flux_table_header_row, tf=tf_simple, alignment = :l)\n",
    "end"
   ]
  }
 ],
 "metadata": {
  "kernelspec": {
   "display_name": "Julia 1.11.4",
   "language": "julia",
   "name": "julia-1.11"
  },
  "language_info": {
   "file_extension": ".jl",
   "mimetype": "application/julia",
   "name": "julia",
   "version": "1.11.4"
  }
 },
 "nbformat": 4,
 "nbformat_minor": 5
}
